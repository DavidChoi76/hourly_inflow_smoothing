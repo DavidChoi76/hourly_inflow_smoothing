{
 "cells": [
  {
   "cell_type": "markdown",
   "id": "c1986f83",
   "metadata": {},
   "source": [
    "# Hourly 유입량 Smoothing"
   ]
  },
  {
   "cell_type": "markdown",
   "id": "a6de8a92",
   "metadata": {},
   "source": [
    "## 1. 필요한 Python Library 읽기"
   ]
  },
  {
   "cell_type": "code",
   "execution_count": null,
   "id": "df695d6e",
   "metadata": {},
   "outputs": [],
   "source": [
    "import pandas as pd\n",
    "import datetime\n",
    "from datetime import timedelta"
   ]
  },
  {
   "cell_type": "markdown",
   "id": "3aa2ac97",
   "metadata": {},
   "source": [
    "## 2. Hourly 유입량 읽기"
   ]
  },
  {
   "cell_type": "markdown",
   "id": "15ea0d89",
   "metadata": {},
   "source": [
    "### 2.1 쿼리한 Hourly 유입량 읽어오기"
   ]
  },
  {
   "cell_type": "code",
   "execution_count": null,
   "id": "153a7f0f",
   "metadata": {},
   "outputs": [],
   "source": [
    "inflow_hourly_df_raw = pd.read_csv(\"sy_dam_hourly.csv\")\n",
    "inflow_hourly_df = inflow_hourly_df_raw.sort_values(by=\"OBSDH\", ascending=True)\n",
    "inflow_hourly_df.head()"
   ]
  },
  {
   "cell_type": "markdown",
   "id": "c08f09da",
   "metadata": {},
   "source": [
    "### 2.2 쿼리의 DATE, TIME 포맷을 Pandas datetime 포맷으로 변환"
   ]
  },
  {
   "cell_type": "code",
   "execution_count": null,
   "id": "c813fb96-55d6-4619-85e8-49c784d25cda",
   "metadata": {},
   "outputs": [],
   "source": [
    "dt_series = []\n",
    "for date in inflow_hourly_df[\"OBSDH\"]:\n",
    "    day = int(str(date)[6:8])\n",
    "    time = int(str(date)[8:10])\n",
    "    if int(str(date)[8:10]) == 24:\n",
    "        time = 0\n",
    "        datetimeobj = datetime.datetime(int(str(date)[0:4]), int(str(date)[4:6]), day, 0, 0)\n",
    "        datetimeobj = datetimeobj + timedelta(days=1)\n",
    "    else:\n",
    "        datetimeobj = datetime.datetime(int(str(date)[0:4]), int(str(date)[4:6]), day, time, 0)\n",
    "    dt_series.append(datetimeobj)\n",
    "dt_series[0:4]"
   ]
  },
  {
   "cell_type": "code",
   "execution_count": null,
   "id": "ad4ff518-b8d5-4b7b-85af-948b57e3da31",
   "metadata": {},
   "outputs": [],
   "source": [
    "# date의 날짜를 datetime 포맷으로 변경\n",
    "inflow_hourly_df[\"date\"] = dt_series\n",
    "inflow_hourly_df.head()"
   ]
  },
  {
   "cell_type": "code",
   "execution_count": null,
   "id": "454430b0-cf91-4299-a03a-b32da13822dd",
   "metadata": {},
   "outputs": [],
   "source": [
    "# Hourly 데이터의 시작 및 종료 날짜에 대해 정의하기\n",
    "full_date = pd.DataFrame(\n",
    "    {'date': pd.date_range(start='2000-01-01 01:00:00', end='2022-12-31 00:00:00', freq='1H'),\n",
    "    }\n",
    ")\n",
    "full_date.head()"
   ]
  },
  {
   "cell_type": "markdown",
   "id": "cb28c608",
   "metadata": {},
   "source": [
    "### 2.3 결측자료 확인"
   ]
  },
  {
   "cell_type": "code",
   "execution_count": null,
   "id": "ea6d9d70-6a25-44b3-b175-520da2a2189d",
   "metadata": {},
   "outputs": [],
   "source": [
    "# 데이터 Merge를 통해서 결측자료 확인\n",
    "hourly_inflow_df = pd.merge(full_date, inflow_hourly_df, on=\"date\", how=\"left\")\n",
    "hourly_inflow_df"
   ]
  },
  {
   "cell_type": "code",
   "execution_count": null,
   "id": "6baf0239",
   "metadata": {},
   "outputs": [],
   "source": [
    "# 결측자료 갯수 확인\n",
    "hourly_inflow_df.isna().sum().sum()"
   ]
  },
  {
   "cell_type": "markdown",
   "id": "b3fa1ccd",
   "metadata": {},
   "source": [
    "### 2.4 결측자료 Interpolation하기"
   ]
  },
  {
   "cell_type": "code",
   "execution_count": null,
   "id": "626b6272",
   "metadata": {},
   "outputs": [],
   "source": [
    "import numpy as np\n",
    "hourly_inflow_df_1 = hourly_inflow_df.replace(0, np.NaN)\n",
    "hourly_inflow_df_1"
   ]
  },
  {
   "cell_type": "markdown",
   "id": "f389cd7d",
   "metadata": {},
   "source": [
    "### 2.5 \"0\" 유입량 제거"
   ]
  },
  {
   "cell_type": "markdown",
   "id": "99321c8b",
   "metadata": {},
   "source": [
    "* 연속적인 유입량 \"0'값 이후 값을 가지게 되면 이전의 \"0\"값을 새로 계산된 값을 활용하여 Backfill로 평균값 적용"
   ]
  },
  {
   "cell_type": "code",
   "execution_count": null,
   "id": "24bd1c1d",
   "metadata": {},
   "outputs": [],
   "source": [
    "inflow_values = hourly_inflow_df_1[\"IQTY\"].bfill().div(\n",
    "    hourly_inflow_df_1.groupby(hourly_inflow_df_1[\"IQTY\"].notna()[::-1].cumsum())[\"IQTY\"].transform('size')\n",
    ")"
   ]
  },
  {
   "cell_type": "code",
   "execution_count": null,
   "id": "dd7a3619",
   "metadata": {},
   "outputs": [],
   "source": [
    "hourly_inflow_df_1[\"inflow(cms)\"] = inflow_values.values\n",
    "hourly_inflow_df_1"
   ]
  },
  {
   "cell_type": "code",
   "execution_count": null,
   "id": "dcf752b1-c89b-45e7-a7fc-70c0cf733ac9",
   "metadata": {},
   "outputs": [],
   "source": [
    "hourly_inflow_df_1 = hourly_inflow_df_1.set_index(\"date\")\n",
    "hourly_inflow_df_1"
   ]
  },
  {
   "cell_type": "markdown",
   "id": "d955e7b5",
   "metadata": {},
   "source": [
    "### 2.6 Smoothing을 적용할 최종 유입량 값 취득"
   ]
  },
  {
   "cell_type": "code",
   "execution_count": null,
   "id": "f04da912-0fcb-46eb-ab4f-a85a2579700f",
   "metadata": {},
   "outputs": [],
   "source": [
    "hourly_inflow_filter = hourly_inflow_df_1[[\"inflow(cms)\"]]\n",
    "hourly_inflow_filter"
   ]
  },
  {
   "cell_type": "code",
   "execution_count": null,
   "id": "c46eba15-7658-448a-9ffd-a8d899e43bf7",
   "metadata": {},
   "outputs": [],
   "source": []
  },
  {
   "cell_type": "markdown",
   "id": "55cbfe79",
   "metadata": {},
   "source": [
    "## 3. Hourly 댐유입량에 Smoothing 적용 함수 정의"
   ]
  },
  {
   "cell_type": "markdown",
   "id": "9f7380db",
   "metadata": {},
   "source": [
    "### 3.1 Smoothing 방법별 초기값 지정"
   ]
  },
  {
   "cell_type": "code",
   "execution_count": null,
   "id": "443003b5-54d3-4676-a9a0-47368f7d547a",
   "metadata": {},
   "outputs": [],
   "source": [
    "mov_avg_valinit = 2\n",
    "centr_mov_avg_valinit = 2\n",
    "exp_smooth_valinit = 0.2\n",
    "holt_alpha_valinit = 0.2\n",
    "holt_beta_valinit = 0.95\n",
    "wint_season_valinit = 5\n",
    "wint_alpha_valinit = 0.2\n",
    "wint_beta_valinit = 0.2\n",
    "wint_zeta_valinit = 0.2"
   ]
  },
  {
   "cell_type": "markdown",
   "id": "fe28ac32",
   "metadata": {},
   "source": [
    "### 3.2 Smoothing 분석 및 Plotting 함수 정의"
   ]
  },
  {
   "cell_type": "code",
   "execution_count": null,
   "id": "5ec14c93",
   "metadata": {},
   "outputs": [],
   "source": [
    "import matplotlib.pyplot as plt\n",
    "from matplotlib.widgets import Slider, RadioButtons\n",
    "\n",
    "%matplotlib widget\n",
    "\n",
    "def es_plot():\n",
    "    \n",
    "    #PARAMETERS\n",
    "    alpha_h = 0.1\n",
    "    beta_h = 0.1\n",
    "\n",
    "    wint_season = 2\n",
    "    wint_alpha = 0.2\n",
    "    wint_beta = 0.2\n",
    "    wint_zeta = 0.2\n",
    "\n",
    "    def MovingAverage(og_fun, Window):\n",
    "\n",
    "        if Window == 0:\n",
    "            pass\n",
    "            # mov_avg = np.zeros_like(og_fun)\n",
    "        else:\n",
    "            mov_avg = np.zeros_like(og_fun)\n",
    "            for i in range(len(og_fun) - Window):\n",
    "                mov_avg[i+Window] = og_fun[i:i+Window].sum()/Window\n",
    "\n",
    "            return mov_avg\n",
    "\n",
    "    def Centr_mov_avg(og_fun, Window):\n",
    "\n",
    "        if Window == 1:\n",
    "            pass\n",
    "        else:\n",
    "            HalfWindow = int((Window-1)/2)\n",
    "            Smooth = np.zeros_like(og_fun)\n",
    "            for i in range(HalfWindow, og_fun.shape[0]-HalfWindow):\n",
    "                Smooth[i] = np.mean(og_fun[(i-HalfWindow):(i+HalfWindow)])\n",
    "\n",
    "            return Smooth\n",
    "\n",
    "    def ExpSmo_func(og_fun,alpha):\n",
    "\n",
    "        if alpha<0:\n",
    "            pass\n",
    "        else:\n",
    "            Smooth = np.zeros_like(og_fun)\n",
    "            Smooth[0] = og_fun[0]\n",
    "\n",
    "            for i in range(1,len(og_fun)):\n",
    "                Smooth[i] = alpha * og_fun[i] + (1-alpha) * Smooth[i-1]\n",
    "\n",
    "            return Smooth\n",
    "\n",
    "    def Holt_exp_fun(og_fun,alpha,beta):\n",
    "\n",
    "        if alpha<0 and beta<0:\n",
    "            pass\n",
    "        else:  \n",
    "            #Initialization\n",
    "            Smooth  = np.zeros_like(og_fun)\n",
    "            Trend   = np.zeros_like(og_fun)\n",
    "            Prediction = np.zeros_like(og_fun)\n",
    "\n",
    "            Smooth[0] = og_fun[0]\n",
    "            Smooth[1] = og_fun[1]\n",
    "            Prediction[2] = Smooth[1] + (Smooth[1] - Smooth[0])\n",
    "\n",
    "            for i in range(2,len(og_fun)-1):\n",
    "                Smooth[i] = alpha*og_fun[i] + (1-alpha)*(Smooth[i-1]+Trend[i-1])\n",
    "                Trend[i]  = beta*(Smooth[i]-Smooth[i-1]) + ((1-beta)*Trend[i-1])\n",
    "                Prediction[i+1]  = Smooth[i]+Trend[i]\n",
    "\n",
    "\n",
    "            return Prediction\n",
    "\n",
    "    def Wint_exp_fun(og_fun, alpha, beta, zeta, S_len):\n",
    "\n",
    "        if S_len == 0:\n",
    "            pass\n",
    "        else:\n",
    "\n",
    "            Smooth     = np.zeros_like(og_fun)\n",
    "            Trend      = np.zeros_like(og_fun)\n",
    "            Season     = np.zeros_like(og_fun)\n",
    "            Prediction = np.zeros_like(og_fun)\n",
    "\n",
    "            #Initial values\n",
    "            Season[:S_len] = og_fun[:S_len] / og_fun[:S_len].mean()\n",
    "            Smooth[S_len]  = og_fun[S_len] / Season[0]\n",
    "            Trend[S_len]   = Smooth[S_len] - (og_fun[S_len-1]/Season[S_len-1])\n",
    "\n",
    "            for i in range(S_len, len(og_fun)-1):\n",
    "                Season[i] = zeta * (og_fun[i]/Smooth[i]) + (1-zeta) * Season[i-S_len]\n",
    "                Prediction[i+1] = (Smooth[i] + Trend[i]) * Season[i-S_len]\n",
    "                Smooth[i+1] = alpha * (og_fun[i+1] / Season[i+1-S_len]) + (1 - alpha) * (Smooth[i] + Trend[i])\n",
    "                Trend[i+1] = beta * (Smooth[i+1] - Smooth[i]) + (1-beta) * Trend[i]\n",
    "\n",
    "            return Prediction\n",
    "\n",
    "    def update_mov_avg(val):\n",
    "        current_v = slider_mov_avg.val\n",
    "        mov_avg = MovingAverage(y, Window=current_v)\n",
    "        p1.set_ydata(mov_avg)\n",
    "        fig.canvas.draw()\n",
    "\n",
    "    def update_centr_mov_avg(val):\n",
    "        current_v = slider_centr_mov_avg.val\n",
    "        centrl_mov_avg = Centr_mov_avg(y, Window=current_v)\n",
    "        p2.set_ydata(centrl_mov_avg)\n",
    "        fig.canvas.draw()\n",
    "\n",
    "    def update_exp_smoothing(val):\n",
    "        current_v = slider_exp_smooth.val\n",
    "        exp_smooth_value = ExpSmo_func(y, alpha=current_v)\n",
    "        p3.set_ydata(exp_smooth_value)\n",
    "        fig.canvas.draw()\n",
    "\n",
    "    def update_holt_alpha(val):\n",
    "        global alpha_h\n",
    "        current_v = slider_holt_alpha.val\n",
    "        alpha_h=current_v\n",
    "        holt_value = Holt_exp_fun(y, alpha=current_v, beta=beta_h)\n",
    "        p4.set_ydata(holt_value)\n",
    "        fig.canvas.draw()\n",
    "\n",
    "    def update_holt_beta(val):\n",
    "        global beta_h\n",
    "        current_v = slider_holt_beta.val\n",
    "        beta_h = current_v\n",
    "        holt_value = Holt_exp_fun(y, alpha=alpha_h, beta=current_v)\n",
    "        p4.set_ydata(holt_value)\n",
    "        fig.canvas.draw()\n",
    "\n",
    "    def update_wint_season(val):\n",
    "        global wint_season\n",
    "        current_v = slider_wint_season.val\n",
    "        wint_season = current_v\n",
    "        wint_value = Wint_exp_fun(y, alpha=wint_alpha, beta=wint_beta, zeta=wint_zeta, S_len=current_v)\n",
    "        p5.set_ydata(wint_value)\n",
    "        fig.canvas.draw()\n",
    "\n",
    "    def update_wint_alpha(val):\n",
    "        global wint_alpha\n",
    "        current_v = slider_wint_alpha.val\n",
    "        wint_alpha = current_v\n",
    "        wint_value = Wint_exp_fun(y, alpha=current_v, beta=wint_beta, zeta=wint_zeta, S_len=wint_season)\n",
    "        p5.set_ydata(wint_value)\n",
    "        fig.canvas.draw()\n",
    "\n",
    "    def update_wint_beta(val):\n",
    "        global wint_beta\n",
    "        current_v = slider_wint_beta.val\n",
    "        wint_beta = current_v\n",
    "        wint_value = Wint_exp_fun(y, alpha=wint_alpha, beta=current_v, zeta=wint_zeta, S_len=wint_season)\n",
    "        p5.set_ydata(wint_value)\n",
    "        fig.canvas.draw()\n",
    "\n",
    "    def update_wint_zeta(val):\n",
    "        global wint_zeta\n",
    "        current_v = slider_wint_zeta.val\n",
    "        wint_zeta = current_v\n",
    "        wint_value = Wint_exp_fun(y, alpha=wint_alpha, beta=wint_beta, zeta=current_v, S_len = wint_season)\n",
    "        p5.set_ydata(wint_value)\n",
    "        fig.canvas.draw()\n",
    "\n",
    "       \n",
    "    fig = plt.figure(figsize=[10, 9])\n",
    "    ax  = fig.subplots()\n",
    "    plt.title('Application of Smoothing methods to Remove Sawtooth Data from Hourly Inflow')\n",
    "\n",
    "    mov_avg = MovingAverage(y, 3)\n",
    "    centrl_mov_avg = Centr_mov_avg(y, 3)\n",
    "    exp_smo = ExpSmo_func(y, 0.2)\n",
    "    holt_exp = Holt_exp_fun(y,0.2,0.95)\n",
    "    wint_exp = Wint_exp_fun(y, 0.2, 0.2, 0.2, 5)\n",
    "\n",
    "\n",
    "    plt.subplots_adjust(bottom = 0.45)\n",
    "    p     = ax.plot(x,y, label = 'Observational inflow', marker=\".\")\n",
    "    p1,   = ax.plot(x,mov_avg,'r', label = 'Moving avg')\n",
    "    p2,   = ax.plot(x,centrl_mov_avg,'g', label = 'Centralized moving avg')\n",
    "    p3,   = ax.plot(x,exp_smo,'k', label = 'Exponential smoothing')\n",
    "    p4,   = ax.plot(x,holt_exp,'y', label = \"Holt's exponential smoothing\")\n",
    "    p5,   = ax.plot(x,wint_exp,'violet', label = \"Winter's exponential smoothing\")\n",
    "\n",
    "    ax.legend()\n",
    "\n",
    "    #Slider\n",
    "    ax_slide  = plt.axes([0.2, 0.1, 0.65, 0.03])\n",
    "    ax_slide2 = plt.axes([0.2, 0.14, 0.65, 0.03])\n",
    "    ax_slide3 = plt.axes([0.2, 0.18, 0.65, 0.03])\n",
    "    ax_slide4 = plt.axes([0.2, 0.22, 0.28, 0.03])\n",
    "    ax_slide4_2 = plt.axes([0.57, 0.22, 0.28, 0.03])\n",
    "\n",
    "    ax_slide5_1 = plt.axes([0.2, 0.26, 0.28, 0.03])\n",
    "    ax_slide5_2 = plt.axes([0.57, 0.26, 0.28, 0.03])\n",
    "    ax_slide5_3 = plt.axes([0.2, 0.30, 0.28, 0.03])\n",
    "    ax_slide5_4 = plt.axes([0.57, 0.30, 0.28, 0.03])\n",
    "\n",
    "   \n",
    "    valinit = mov_avg_valinit\n",
    "    slider_mov_avg = Slider(ax_slide, 'Window_size (Mov.avg)', valmin = 0, valmax=20, valinit=valinit, valstep=1, color='red', initcolor='none')\n",
    "    valinit = centr_mov_avg_valinit    \n",
    "    slider_centr_mov_avg = Slider(ax_slide2, 'Window size (C.Mov.avg)', valmin = 1, valmax=31, valinit=2, valstep=0.5, color='g',initcolor='none')\n",
    "    valinit = exp_smooth_valinit\n",
    "    slider_exp_smooth = Slider(ax_slide3, 'Exp_smoothing (α)', valmin = -0.03, valmax=1, valinit=0.2, valstep=0.03, color='k',initcolor='none')\n",
    "    valinit = holt_alpha_valinit\n",
    "    slider_holt_alpha = Slider(ax_slide4, \"Holt's exp. α\", valmin = -0.01, valmax=1, valinit=0.2, valstep=0.01, color='y',initcolor='none')\n",
    "    valinit = holt_beta_valinit\n",
    "    slider_holt_beta = Slider(ax_slide4_2, label='β', valmin = -0.01, valmax=1, valinit=0.95, valstep=0.01, color='y',initcolor='none')\n",
    "    valinit = wint_season_valinit\n",
    "    slider_wint_season = Slider(ax_slide5_1, label=\"Winter's season_length\", valmin = 0, valmax=10, valinit=5, valstep=1, color='violet',initcolor='none')\n",
    "    valinit = wint_alpha_valinit\n",
    "    slider_wint_alpha  = Slider(ax_slide5_2, label='α', valmin = 0, valmax=1, valinit=0.2, valstep=0.01, color='violet',initcolor='none')\n",
    "    valinit = wint_beta_valinit\n",
    "    slider_wint_beta   = Slider(ax_slide5_3, label='β', valmin = 0, valmax=1, valinit=0.2, valstep=0.01, color='violet',initcolor='none')\n",
    "    valinit = wint_zeta_valinit\n",
    "    slider_wint_zeta   = Slider(ax_slide5_4, label='ζ', valmin = 0, valmax=1, valinit=0.2, valstep=0.01, color='violet',initcolor='none')\n",
    "\n",
    "    slider_mov_avg.on_changed(update_mov_avg)\n",
    "    slider_centr_mov_avg.on_changed(update_centr_mov_avg)\n",
    "    slider_exp_smooth.on_changed(update_exp_smoothing)\n",
    "    slider_holt_alpha.on_changed(update_holt_alpha)\n",
    "    slider_holt_beta.on_changed(update_holt_beta)\n",
    "\n",
    "    slider_wint_season.on_changed(update_wint_season)\n",
    "    slider_wint_alpha.on_changed(update_wint_alpha)\n",
    "    slider_wint_beta.on_changed(update_wint_beta)\n",
    "    slider_wint_zeta.on_changed(update_wint_zeta)\n",
    "\n",
    "    plt.show()\n",
    "    \n",
    "    return mov_avg, centrl_mov_avg, exp_smo, holt_exp, wint_exp"
   ]
  },
  {
   "cell_type": "markdown",
   "id": "02a24f21",
   "metadata": {},
   "source": [
    "### 3.3 Performance 함수 정의"
   ]
  },
  {
   "cell_type": "code",
   "execution_count": null,
   "id": "1f0be781",
   "metadata": {},
   "outputs": [],
   "source": [
    "from sklearn.metrics import mean_squared_error\n",
    "from sklearn.metrics import mean_absolute_error\n",
    "from sklearn.metrics import r2_score\n",
    "\n",
    "def performance_test(obs, sm_result):\n",
    "\n",
    "    r2_result = r2_score(obs, sm_result)\n",
    "    mse_result = mean_squared_error(obs, sm_result)\n",
    "    mae_result = mean_absolute_error(obs, sm_result)\n",
    "    rmse_result = mean_squared_error(obs, sm_result)**0.5\n",
    "\n",
    "    return r2_result, mse_result, mae_result, rmse_result"
   ]
  },
  {
   "cell_type": "code",
   "execution_count": null,
   "id": "a5731107",
   "metadata": {},
   "outputs": [],
   "source": []
  },
  {
   "cell_type": "markdown",
   "id": "a74c0367",
   "metadata": {},
   "source": [
    "## 4. Case별 Hourly 댐유입량에 Smoothing 방법 적용"
   ]
  },
  {
   "cell_type": "markdown",
   "id": "cf6277f6",
   "metadata": {},
   "source": [
    " * Case는 매년 유입량이 가장 많았던 시기를 중심으로 일정기간의 데이터를 추출하여 Smoothing 적용"
   ]
  },
  {
   "cell_type": "markdown",
   "id": "663d03b6",
   "metadata": {},
   "source": [
    "## Case-1"
   ]
  },
  {
   "cell_type": "code",
   "execution_count": null,
   "id": "6e2bc21c",
   "metadata": {
    "scrolled": false
   },
   "outputs": [],
   "source": [
    "plot1 = hourly_inflow_filter.loc[\"2001-07-13 0:00\":\"2001-07-17 0:00\"]\n",
    "x = plot1.index\n",
    "y = plot1[\"inflow(cms)\"]\n",
    "mov_avg, centrl_mov_avg, exp_smo, holt_exp, wint_exp = es_plot()"
   ]
  },
  {
   "cell_type": "code",
   "execution_count": null,
   "id": "41507a7e",
   "metadata": {},
   "outputs": [],
   "source": [
    "methods = [mov_avg, centrl_mov_avg, exp_smo, holt_exp, wint_exp]\n",
    "\n",
    "r2_result_all = []\n",
    "mse_result_all = []\n",
    "mae_result_all = []\n",
    "rmse_result_all = []\n",
    "\n",
    "for i in methods:\n",
    "    r2_result, mse_result, mae_result, rmse_result = performance_test(y.values, i)\n",
    "    r2_result_all.append(r2_result)\n",
    "    mse_result_all.append(mse_result)\n",
    "    mae_result_all.append(mae_result)\n",
    "    rmse_result_all.append(rmse_result)\n",
    "    \n",
    "evaluation = {\"R2\": r2_result_all,\n",
    "              \"MSE\": mse_result_all,\n",
    "              \"MAE\": mae_result_all,\n",
    "              \"RMSE\": rmse_result_all,}\n",
    "index = [\"mov_avg\", \"centrl_mov_avg\", \"exp_smo\", \"holt_exp\", \"wint_exp\"]\n",
    "eval_df = pd.DataFrame(evaluation, index=index)\n",
    "eval_df"
   ]
  },
  {
   "cell_type": "markdown",
   "id": "78ca317c",
   "metadata": {},
   "source": [
    "## Case-2"
   ]
  },
  {
   "cell_type": "code",
   "execution_count": null,
   "id": "759aa552",
   "metadata": {},
   "outputs": [],
   "source": [
    "plot2 = hourly_inflow_filter.loc[\"2002-08-30 0:00\":\"2002-09-03 0:00\"]\n",
    "x = plot2.index\n",
    "y = plot2[\"inflow(cms)\"]\n",
    "mov_avg, centrl_mov_avg, exp_smo, holt_exp, wint_exp = es_plot()"
   ]
  },
  {
   "cell_type": "code",
   "execution_count": null,
   "id": "e86477a3",
   "metadata": {},
   "outputs": [],
   "source": [
    "methods = [mov_avg, centrl_mov_avg, exp_smo, holt_exp, wint_exp]\n",
    "\n",
    "r2_result_all = []\n",
    "mse_result_all = []\n",
    "mae_result_all = []\n",
    "rmse_result_all = []\n",
    "\n",
    "for i in methods:\n",
    "    r2_result, mse_result, mae_result, rmse_result = performance_test(y.values, i)\n",
    "    r2_result_all.append(r2_result)\n",
    "    mse_result_all.append(mse_result)\n",
    "    mae_result_all.append(mae_result)\n",
    "    rmse_result_all.append(rmse_result)\n",
    "    \n",
    "evaluation = {\"R2\": r2_result_all,\n",
    "              \"MSE\": mse_result_all,\n",
    "              \"MAE\": mae_result_all,\n",
    "              \"RMSE\": rmse_result_all,}\n",
    "index = [\"mov_avg\", \"centrl_mov_avg\", \"exp_smo\", \"holt_exp\", \"wint_exp\"]\n",
    "eval_df = pd.DataFrame(evaluation, index=index)\n",
    "eval_df"
   ]
  },
  {
   "cell_type": "markdown",
   "id": "b1e101e7",
   "metadata": {},
   "source": [
    "## Case-3"
   ]
  },
  {
   "cell_type": "code",
   "execution_count": null,
   "id": "95234955",
   "metadata": {},
   "outputs": [],
   "source": [
    "plot3 = hourly_inflow_filter.loc[\"2003-09-11 0:00\":\"2003-09-15 0:00\"]\n",
    "x = plot3.index\n",
    "y = plot3[\"inflow(cms)\"]\n",
    "mov_avg, centrl_mov_avg, exp_smo, holt_exp, wint_exp = es_plot()"
   ]
  },
  {
   "cell_type": "code",
   "execution_count": null,
   "id": "6399a900",
   "metadata": {},
   "outputs": [],
   "source": [
    "methods = [mov_avg, centrl_mov_avg, exp_smo, holt_exp, wint_exp]\n",
    "\n",
    "r2_result_all = []\n",
    "mse_result_all = []\n",
    "mae_result_all = []\n",
    "rmse_result_all = []\n",
    "\n",
    "for i in methods:\n",
    "    r2_result, mse_result, mae_result, rmse_result = performance_test(y.values, i)\n",
    "    r2_result_all.append(r2_result)\n",
    "    mse_result_all.append(mse_result)\n",
    "    mae_result_all.append(mae_result)\n",
    "    rmse_result_all.append(rmse_result)\n",
    "    \n",
    "evaluation = {\"R2\": r2_result_all,\n",
    "              \"MSE\": mse_result_all,\n",
    "              \"MAE\": mae_result_all,\n",
    "              \"RMSE\": rmse_result_all,}\n",
    "index = [\"mov_avg\", \"centrl_mov_avg\", \"exp_smo\", \"holt_exp\", \"wint_exp\"]\n",
    "eval_df = pd.DataFrame(evaluation, index=index)\n",
    "eval_df"
   ]
  },
  {
   "cell_type": "markdown",
   "id": "16cd573b",
   "metadata": {},
   "source": [
    "## Case-4"
   ]
  },
  {
   "cell_type": "code",
   "execution_count": null,
   "id": "da6adcb8",
   "metadata": {},
   "outputs": [],
   "source": [
    "plot4 = hourly_inflow_filter.loc[\"2004-07-11 0:00\":\"2004-07-15 0:00\"]\n",
    "x = plot4.index\n",
    "y = plot4[\"inflow(cms)\"]\n",
    "mov_avg, centrl_mov_avg, exp_smo, holt_exp, wint_exp = es_plot()"
   ]
  },
  {
   "cell_type": "code",
   "execution_count": null,
   "id": "6578dcc9",
   "metadata": {},
   "outputs": [],
   "source": [
    "methods = [mov_avg, centrl_mov_avg, exp_smo, holt_exp, wint_exp]\n",
    "\n",
    "r2_result_all = []\n",
    "mse_result_all = []\n",
    "mae_result_all = []\n",
    "rmse_result_all = []\n",
    "\n",
    "for i in methods:\n",
    "    r2_result, mse_result, mae_result, rmse_result = performance_test(y.values, i)\n",
    "    r2_result_all.append(r2_result)\n",
    "    mse_result_all.append(mse_result)\n",
    "    mae_result_all.append(mae_result)\n",
    "    rmse_result_all.append(rmse_result)\n",
    "    \n",
    "evaluation = {\"R2\": r2_result_all,\n",
    "              \"MSE\": mse_result_all,\n",
    "              \"MAE\": mae_result_all,\n",
    "              \"RMSE\": rmse_result_all,}\n",
    "index = [\"mov_avg\", \"centrl_mov_avg\", \"exp_smo\", \"holt_exp\", \"wint_exp\"]\n",
    "eval_df = pd.DataFrame(evaluation, index=index)\n",
    "eval_df"
   ]
  },
  {
   "cell_type": "markdown",
   "id": "9c6d5e24",
   "metadata": {},
   "source": [
    "## Case-5"
   ]
  },
  {
   "cell_type": "code",
   "execution_count": null,
   "id": "aa08e0ac",
   "metadata": {},
   "outputs": [],
   "source": [
    "mov_avg_valinit = 2\n",
    "centr_mov_avg_valinit = 2\n",
    "exp_smooth_valinit = 0.2\n",
    "holt_alpha_valinit = 0.2\n",
    "holt_beta_valinit = 0.95\n",
    "wint_season_valinit = 5\n",
    "wint_alpha_valinit = 0.2\n",
    "wint_beta_valinit = 0.2\n",
    "wint_zeta_valinit = 0.2"
   ]
  },
  {
   "cell_type": "code",
   "execution_count": null,
   "id": "23d82138",
   "metadata": {},
   "outputs": [],
   "source": [
    "plot5 = hourly_inflow_filter.loc[\"2005-06-25 0:00\":\"2005-06-29 0:00\"]\n",
    "x = plot5.index\n",
    "y = plot5[\"inflow(cms)\"]\n",
    "mov_avg, centrl_mov_avg, exp_smo, holt_exp, wint_exp = es_plot()"
   ]
  },
  {
   "cell_type": "code",
   "execution_count": null,
   "id": "b3a3346f",
   "metadata": {},
   "outputs": [],
   "source": [
    "methods = [mov_avg, centrl_mov_avg, exp_smo, holt_exp, wint_exp]\n",
    "\n",
    "r2_result_all = []\n",
    "mse_result_all = []\n",
    "mae_result_all = []\n",
    "rmse_result_all = []\n",
    "\n",
    "for i in methods:\n",
    "    r2_result, mse_result, mae_result, rmse_result = performance_test(y.values, i)\n",
    "    r2_result_all.append(r2_result)\n",
    "    mse_result_all.append(mse_result)\n",
    "    mae_result_all.append(mae_result)\n",
    "    rmse_result_all.append(rmse_result)\n",
    "    \n",
    "evaluation = {\"R2\": r2_result_all,\n",
    "              \"MSE\": mse_result_all,\n",
    "              \"MAE\": mae_result_all,\n",
    "              \"RMSE\": rmse_result_all,}\n",
    "index = [\"mov_avg\", \"centrl_mov_avg\", \"exp_smo\", \"holt_exp\", \"wint_exp\"]\n",
    "eval_df = pd.DataFrame(evaluation, index=index)\n",
    "eval_df"
   ]
  },
  {
   "cell_type": "markdown",
   "id": "9d14561c",
   "metadata": {},
   "source": [
    "## Case-6"
   ]
  },
  {
   "cell_type": "code",
   "execution_count": null,
   "id": "25a8f0a5",
   "metadata": {},
   "outputs": [],
   "source": [
    "plot6 = hourly_inflow_filter.loc[\"2006-07-13 0:00\":\"2006-07-17 0:00\"]\n",
    "x = plot6.index\n",
    "y = plot6[\"inflow(cms)\"]\n",
    "mov_avg, centrl_mov_avg, exp_smo, holt_exp, wint_exp = es_plot()"
   ]
  },
  {
   "cell_type": "code",
   "execution_count": null,
   "id": "c6870ea2",
   "metadata": {},
   "outputs": [],
   "source": [
    "methods = [mov_avg, centrl_mov_avg, exp_smo, holt_exp, wint_exp]\n",
    "\n",
    "r2_result_all = []\n",
    "mse_result_all = []\n",
    "mae_result_all = []\n",
    "rmse_result_all = []\n",
    "\n",
    "for i in methods:\n",
    "    r2_result, mse_result, mae_result, rmse_result = performance_test(y.values, i)\n",
    "    r2_result_all.append(r2_result)\n",
    "    mse_result_all.append(mse_result)\n",
    "    mae_result_all.append(mae_result)\n",
    "    rmse_result_all.append(rmse_result)\n",
    "    \n",
    "evaluation = {\"R2\": r2_result_all,\n",
    "              \"MSE\": mse_result_all,\n",
    "              \"MAE\": mae_result_all,\n",
    "              \"RMSE\": rmse_result_all,}\n",
    "index = [\"mov_avg\", \"centrl_mov_avg\", \"exp_smo\", \"holt_exp\", \"wint_exp\"]\n",
    "eval_df = pd.DataFrame(evaluation, index=index)\n",
    "eval_df"
   ]
  },
  {
   "cell_type": "markdown",
   "id": "298324b1",
   "metadata": {},
   "source": [
    "## Case-7"
   ]
  },
  {
   "cell_type": "code",
   "execution_count": null,
   "id": "b7e6bbd8",
   "metadata": {},
   "outputs": [],
   "source": [
    "mov_avg_valinit = 2\n",
    "centr_mov_avg_valinit = 2\n",
    "exp_smooth_valinit = 0.2\n",
    "holt_alpha_valinit = 0.2\n",
    "holt_beta_valinit = 0.95\n",
    "wint_season_valinit = 5\n",
    "wint_alpha_valinit = 0.2\n",
    "wint_beta_valinit = 0.2\n",
    "wint_zeta_valinit = 0.2"
   ]
  },
  {
   "cell_type": "code",
   "execution_count": null,
   "id": "95dcb88d",
   "metadata": {},
   "outputs": [],
   "source": [
    "plot7 = hourly_inflow_filter.loc[\"2007-08-08 0:00\":\"2007-08-12 0:00\"]\n",
    "x = plot7.index\n",
    "y = plot7[\"inflow(cms)\"]\n",
    "mov_avg, centrl_mov_avg, exp_smo, holt_exp, wint_exp = es_plot()"
   ]
  },
  {
   "cell_type": "code",
   "execution_count": null,
   "id": "d99f6057",
   "metadata": {},
   "outputs": [],
   "source": [
    "methods = [mov_avg, centrl_mov_avg, exp_smo, holt_exp, wint_exp]\n",
    "\n",
    "r2_result_all = []\n",
    "mse_result_all = []\n",
    "mae_result_all = []\n",
    "rmse_result_all = []\n",
    "\n",
    "for i in methods:\n",
    "    r2_result, mse_result, mae_result, rmse_result = performance_test(y.values, i)\n",
    "    r2_result_all.append(r2_result)\n",
    "    mse_result_all.append(mse_result)\n",
    "    mae_result_all.append(mae_result)\n",
    "    rmse_result_all.append(rmse_result)\n",
    "    \n",
    "evaluation = {\"R2\": r2_result_all,\n",
    "              \"MSE\": mse_result_all,\n",
    "              \"MAE\": mae_result_all,\n",
    "              \"RMSE\": rmse_result_all,}\n",
    "index = [\"mov_avg\", \"centrl_mov_avg\", \"exp_smo\", \"holt_exp\", \"wint_exp\"]\n",
    "eval_df = pd.DataFrame(evaluation, index=index)\n",
    "eval_df"
   ]
  },
  {
   "cell_type": "markdown",
   "id": "e0eecc19",
   "metadata": {},
   "source": [
    "## Case-8"
   ]
  },
  {
   "cell_type": "code",
   "execution_count": null,
   "id": "e989f010",
   "metadata": {},
   "outputs": [],
   "source": [
    "plot8 = hourly_inflow_filter.loc[\"2008-07-22 0:00\":\"2008-07-26 0:00\"]\n",
    "x = plot8.index\n",
    "y = plot8[\"inflow(cms)\"]\n",
    "mov_avg, centrl_mov_avg, exp_smo, holt_exp, wint_exp = es_plot()"
   ]
  },
  {
   "cell_type": "code",
   "execution_count": null,
   "id": "b6aa89dd",
   "metadata": {},
   "outputs": [],
   "source": [
    "methods = [mov_avg, centrl_mov_avg, exp_smo, holt_exp, wint_exp]\n",
    "\n",
    "r2_result_all = []\n",
    "mse_result_all = []\n",
    "mae_result_all = []\n",
    "rmse_result_all = []\n",
    "\n",
    "for i in methods:\n",
    "    r2_result, mse_result, mae_result, rmse_result = performance_test(y.values, i)\n",
    "    r2_result_all.append(r2_result)\n",
    "    mse_result_all.append(mse_result)\n",
    "    mae_result_all.append(mae_result)\n",
    "    rmse_result_all.append(rmse_result)\n",
    "    \n",
    "evaluation = {\"R2\": r2_result_all,\n",
    "              \"MSE\": mse_result_all,\n",
    "              \"MAE\": mae_result_all,\n",
    "              \"RMSE\": rmse_result_all,}\n",
    "index = [\"mov_avg\", \"centrl_mov_avg\", \"exp_smo\", \"holt_exp\", \"wint_exp\"]\n",
    "eval_df = pd.DataFrame(evaluation, index=index)\n",
    "eval_df"
   ]
  },
  {
   "cell_type": "markdown",
   "id": "106e2839",
   "metadata": {},
   "source": [
    "## Case-9"
   ]
  },
  {
   "cell_type": "code",
   "execution_count": null,
   "id": "def59e81",
   "metadata": {},
   "outputs": [],
   "source": [
    "plot9 = hourly_inflow_filter.loc[\"2009-08-10 0:00\":\"2009-08-14 0:00\"]\n",
    "x = plot9.index\n",
    "y = plot9[\"inflow(cms)\"]\n",
    "mov_avg, centrl_mov_avg, exp_smo, holt_exp, wint_exp = es_plot()"
   ]
  },
  {
   "cell_type": "code",
   "execution_count": null,
   "id": "c6b984cf",
   "metadata": {},
   "outputs": [],
   "source": [
    "methods = [mov_avg, centrl_mov_avg, exp_smo, holt_exp, wint_exp]\n",
    "\n",
    "r2_result_all = []\n",
    "mse_result_all = []\n",
    "mae_result_all = []\n",
    "rmse_result_all = []\n",
    "\n",
    "for i in methods:\n",
    "    r2_result, mse_result, mae_result, rmse_result = performance_test(y.values, i)\n",
    "    r2_result_all.append(r2_result)\n",
    "    mse_result_all.append(mse_result)\n",
    "    mae_result_all.append(mae_result)\n",
    "    rmse_result_all.append(rmse_result)\n",
    "    \n",
    "evaluation = {\"R2\": r2_result_all,\n",
    "              \"MSE\": mse_result_all,\n",
    "              \"MAE\": mae_result_all,\n",
    "              \"RMSE\": rmse_result_all,}\n",
    "index = [\"mov_avg\", \"centrl_mov_avg\", \"exp_smo\", \"holt_exp\", \"wint_exp\"]\n",
    "eval_df = pd.DataFrame(evaluation, index=index)\n",
    "eval_df"
   ]
  },
  {
   "cell_type": "markdown",
   "id": "748abb78",
   "metadata": {},
   "source": [
    "## Case-10"
   ]
  },
  {
   "cell_type": "code",
   "execution_count": null,
   "id": "70261409",
   "metadata": {},
   "outputs": [],
   "source": [
    "plot10 = hourly_inflow_filter.loc[\"2010-08-13 0:00\":\"2010-08-17 0:00\"]\n",
    "x = plot10.index\n",
    "y = plot10[\"inflow(cms)\"]\n",
    "mov_avg, centrl_mov_avg, exp_smo, holt_exp, wint_exp = es_plot()"
   ]
  },
  {
   "cell_type": "code",
   "execution_count": null,
   "id": "3fc20be1",
   "metadata": {},
   "outputs": [],
   "source": [
    "methods = [mov_avg, centrl_mov_avg, exp_smo, holt_exp, wint_exp]\n",
    "\n",
    "r2_result_all = []\n",
    "mse_result_all = []\n",
    "mae_result_all = []\n",
    "rmse_result_all = []\n",
    "\n",
    "for i in methods:\n",
    "    r2_result, mse_result, mae_result, rmse_result = performance_test(y.values, i)\n",
    "    r2_result_all.append(r2_result)\n",
    "    mse_result_all.append(mse_result)\n",
    "    mae_result_all.append(mae_result)\n",
    "    rmse_result_all.append(rmse_result)\n",
    "    \n",
    "evaluation = {\"R2\": r2_result_all,\n",
    "              \"MSE\": mse_result_all,\n",
    "              \"MAE\": mae_result_all,\n",
    "              \"RMSE\": rmse_result_all,}\n",
    "index = [\"mov_avg\", \"centrl_mov_avg\", \"exp_smo\", \"holt_exp\", \"wint_exp\"]\n",
    "eval_df = pd.DataFrame(evaluation, index=index)\n",
    "eval_df"
   ]
  },
  {
   "cell_type": "markdown",
   "id": "2a8ae841",
   "metadata": {},
   "source": [
    "## Case-11"
   ]
  },
  {
   "cell_type": "code",
   "execution_count": null,
   "id": "be65fd6a",
   "metadata": {},
   "outputs": [],
   "source": [
    "plot11 = hourly_inflow_filter.loc[\"2011-07-25 0:00\":\"2011-07-29 0:00\"]\n",
    "x = plot11.index\n",
    "y = plot11[\"inflow(cms)\"]\n",
    "mov_avg, centrl_mov_avg, exp_smo, holt_exp, wint_exp = es_plot()"
   ]
  },
  {
   "cell_type": "code",
   "execution_count": null,
   "id": "dd8f7138",
   "metadata": {},
   "outputs": [],
   "source": [
    "methods = [mov_avg, centrl_mov_avg, exp_smo, holt_exp, wint_exp]\n",
    "\n",
    "r2_result_all = []\n",
    "mse_result_all = []\n",
    "mae_result_all = []\n",
    "rmse_result_all = []\n",
    "\n",
    "for i in methods:\n",
    "    r2_result, mse_result, mae_result, rmse_result = performance_test(y.values, i)\n",
    "    r2_result_all.append(r2_result)\n",
    "    mse_result_all.append(mse_result)\n",
    "    mae_result_all.append(mae_result)\n",
    "    rmse_result_all.append(rmse_result)\n",
    "    \n",
    "evaluation = {\"R2\": r2_result_all,\n",
    "              \"MSE\": mse_result_all,\n",
    "              \"MAE\": mae_result_all,\n",
    "              \"RMSE\": rmse_result_all,}\n",
    "index = [\"mov_avg\", \"centrl_mov_avg\", \"exp_smo\", \"holt_exp\", \"wint_exp\"]\n",
    "eval_df = pd.DataFrame(evaluation, index=index)\n",
    "eval_df"
   ]
  },
  {
   "cell_type": "markdown",
   "id": "b7b53a00",
   "metadata": {},
   "source": [
    "## Case-12"
   ]
  },
  {
   "cell_type": "code",
   "execution_count": null,
   "id": "eb863cf9",
   "metadata": {},
   "outputs": [],
   "source": [
    "mov_avg_valinit = 2\n",
    "centr_mov_avg_valinit = 2\n",
    "exp_smooth_valinit = 0.2\n",
    "holt_alpha_valinit = 0.2\n",
    "holt_beta_valinit = 0.95\n",
    "wint_season_valinit = 5\n",
    "wint_alpha_valinit = 0.2\n",
    "wint_beta_valinit = 0.2\n",
    "wint_zeta_valinit = 0.2"
   ]
  },
  {
   "cell_type": "code",
   "execution_count": null,
   "id": "3864256d",
   "metadata": {},
   "outputs": [],
   "source": [
    "plot12 = hourly_inflow_filter.loc[\"2012-09-16 0:00\":\"2012-09-20 0:00\"]\n",
    "x = plot12.index\n",
    "y = plot12[\"inflow(cms)\"]\n",
    "mov_avg, centrl_mov_avg, exp_smo, holt_exp, wint_exp = es_plot()"
   ]
  },
  {
   "cell_type": "code",
   "execution_count": null,
   "id": "c604a199",
   "metadata": {},
   "outputs": [],
   "source": [
    "methods = [mov_avg, centrl_mov_avg, exp_smo, holt_exp, wint_exp]\n",
    "\n",
    "r2_result_all = []\n",
    "mse_result_all = []\n",
    "mae_result_all = []\n",
    "rmse_result_all = []\n",
    "\n",
    "for i in methods:\n",
    "    r2_result, mse_result, mae_result, rmse_result = performance_test(y.values, i)\n",
    "    r2_result_all.append(r2_result)\n",
    "    mse_result_all.append(mse_result)\n",
    "    mae_result_all.append(mae_result)\n",
    "    rmse_result_all.append(rmse_result)\n",
    "    \n",
    "evaluation = {\"R2\": r2_result_all,\n",
    "              \"MSE\": mse_result_all,\n",
    "              \"MAE\": mae_result_all,\n",
    "              \"RMSE\": rmse_result_all,}\n",
    "index = [\"mov_avg\", \"centrl_mov_avg\", \"exp_smo\", \"holt_exp\", \"wint_exp\"]\n",
    "eval_df = pd.DataFrame(evaluation, index=index)\n",
    "eval_df"
   ]
  },
  {
   "cell_type": "markdown",
   "id": "f2327f78",
   "metadata": {},
   "source": [
    "## Case-13"
   ]
  },
  {
   "cell_type": "code",
   "execution_count": null,
   "id": "0be27d57",
   "metadata": {},
   "outputs": [],
   "source": [
    "plot13 = hourly_inflow_filter.loc[\"2013-07-12 0:00\":\"2013-07-16 0:00\"]\n",
    "x = plot13.index\n",
    "y = plot13[\"inflow(cms)\"]\n",
    "mov_avg, centrl_mov_avg, exp_smo, holt_exp, wint_exp = es_plot()"
   ]
  },
  {
   "cell_type": "code",
   "execution_count": null,
   "id": "c96fca83",
   "metadata": {},
   "outputs": [],
   "source": [
    "methods = [mov_avg, centrl_mov_avg, exp_smo, holt_exp, wint_exp]\n",
    "\n",
    "r2_result_all = []\n",
    "mse_result_all = []\n",
    "mae_result_all = []\n",
    "rmse_result_all = []\n",
    "\n",
    "for i in methods:\n",
    "    r2_result, mse_result, mae_result, rmse_result = performance_test(y.values, i)\n",
    "    r2_result_all.append(r2_result)\n",
    "    mse_result_all.append(mse_result)\n",
    "    mae_result_all.append(mae_result)\n",
    "    rmse_result_all.append(rmse_result)\n",
    "    \n",
    "evaluation = {\"R2\": r2_result_all,\n",
    "              \"MSE\": mse_result_all,\n",
    "              \"MAE\": mae_result_all,\n",
    "              \"RMSE\": rmse_result_all,}\n",
    "index = [\"mov_avg\", \"centrl_mov_avg\", \"exp_smo\", \"holt_exp\", \"wint_exp\"]\n",
    "eval_df = pd.DataFrame(evaluation, index=index)\n",
    "eval_df"
   ]
  },
  {
   "cell_type": "markdown",
   "id": "c635fe9b",
   "metadata": {},
   "source": [
    "## Case-14"
   ]
  },
  {
   "cell_type": "code",
   "execution_count": null,
   "id": "33c0a185",
   "metadata": {},
   "outputs": [],
   "source": [
    "mov_avg_valinit = 2\n",
    "centr_mov_avg_valinit = 2\n",
    "exp_smooth_valinit = 0.2\n",
    "holt_alpha_valinit = 0.2\n",
    "holt_beta_valinit = 0.95\n",
    "wint_season_valinit = 5\n",
    "wint_alpha_valinit = 0.2\n",
    "wint_beta_valinit = 0.2\n",
    "wint_zeta_valinit = 0.2"
   ]
  },
  {
   "cell_type": "code",
   "execution_count": null,
   "id": "cf6ef800",
   "metadata": {},
   "outputs": [],
   "source": [
    "plot14 = hourly_inflow_filter.loc[\"2014-09-01 0:00\":\"2014-09-05 0:00\"]\n",
    "x = plot14.index\n",
    "y = plot14[\"inflow(cms)\"]\n",
    "mov_avg, centrl_mov_avg, exp_smo, holt_exp, wint_exp = es_plot()"
   ]
  },
  {
   "cell_type": "code",
   "execution_count": null,
   "id": "78032da8",
   "metadata": {},
   "outputs": [],
   "source": [
    "methods = [mov_avg, centrl_mov_avg, exp_smo, holt_exp, wint_exp]\n",
    "\n",
    "r2_result_all = []\n",
    "mse_result_all = []\n",
    "mae_result_all = []\n",
    "rmse_result_all = []\n",
    "\n",
    "for i in methods:\n",
    "    r2_result, mse_result, mae_result, rmse_result = performance_test(y.values, i)\n",
    "    r2_result_all.append(r2_result)\n",
    "    mse_result_all.append(mse_result)\n",
    "    mae_result_all.append(mae_result)\n",
    "    rmse_result_all.append(rmse_result)\n",
    "    \n",
    "evaluation = {\"R2\": r2_result_all,\n",
    "              \"MSE\": mse_result_all,\n",
    "              \"MAE\": mae_result_all,\n",
    "              \"RMSE\": rmse_result_all,}\n",
    "index = [\"mov_avg\", \"centrl_mov_avg\", \"exp_smo\", \"holt_exp\", \"wint_exp\"]\n",
    "eval_df = pd.DataFrame(evaluation, index=index)\n",
    "eval_df"
   ]
  },
  {
   "cell_type": "markdown",
   "id": "daa8846d",
   "metadata": {},
   "source": [
    "## Case-15"
   ]
  },
  {
   "cell_type": "code",
   "execution_count": null,
   "id": "1011bbda",
   "metadata": {},
   "outputs": [],
   "source": [
    "mov_avg_valinit = 2\n",
    "centr_mov_avg_valinit = 2\n",
    "exp_smooth_valinit = 0.2\n",
    "holt_alpha_valinit = 0.2\n",
    "holt_beta_valinit = 0.95\n",
    "wint_season_valinit = 5\n",
    "wint_alpha_valinit = 0.2\n",
    "wint_beta_valinit = 0.2\n",
    "wint_zeta_valinit = 0.2"
   ]
  },
  {
   "cell_type": "code",
   "execution_count": null,
   "id": "4492810a",
   "metadata": {},
   "outputs": [],
   "source": [
    "plot15 = hourly_inflow_filter.loc[\"2015-08-23 0:00\":\"2015-08-27 0:00\"]\n",
    "x = plot15.index\n",
    "y = plot15[\"inflow(cms)\"]\n",
    "mov_avg, centrl_mov_avg, exp_smo, holt_exp, wint_exp = es_plot()"
   ]
  },
  {
   "cell_type": "code",
   "execution_count": null,
   "id": "a4fb0fee",
   "metadata": {},
   "outputs": [],
   "source": [
    "methods = [mov_avg, centrl_mov_avg, exp_smo, holt_exp, wint_exp]\n",
    "\n",
    "r2_result_all = []\n",
    "mse_result_all = []\n",
    "mae_result_all = []\n",
    "rmse_result_all = []\n",
    "\n",
    "for i in methods:\n",
    "    r2_result, mse_result, mae_result, rmse_result = performance_test(y.values, i)\n",
    "    r2_result_all.append(r2_result)\n",
    "    mse_result_all.append(mse_result)\n",
    "    mae_result_all.append(mae_result)\n",
    "    rmse_result_all.append(rmse_result)\n",
    "    \n",
    "evaluation = {\"R2\": r2_result_all,\n",
    "              \"MSE\": mse_result_all,\n",
    "              \"MAE\": mae_result_all,\n",
    "              \"RMSE\": rmse_result_all,}\n",
    "index = [\"mov_avg\", \"centrl_mov_avg\", \"exp_smo\", \"holt_exp\", \"wint_exp\"]\n",
    "eval_df = pd.DataFrame(evaluation, index=index)\n",
    "eval_df"
   ]
  },
  {
   "cell_type": "markdown",
   "id": "900b24e4",
   "metadata": {},
   "source": [
    "## Case-16"
   ]
  },
  {
   "cell_type": "code",
   "execution_count": null,
   "id": "2f9d079e",
   "metadata": {},
   "outputs": [],
   "source": [
    "plot16 = hourly_inflow_filter.loc[\"2016-07-03 0:00\":\"2016-07-07 0:00\"]\n",
    "x = plot16.index\n",
    "y = plot16[\"inflow(cms)\"]\n",
    "mov_avg, centrl_mov_avg, exp_smo, holt_exp, wint_exp = es_plot()"
   ]
  },
  {
   "cell_type": "code",
   "execution_count": null,
   "id": "f87f8a67",
   "metadata": {},
   "outputs": [],
   "source": [
    "methods = [mov_avg, centrl_mov_avg, exp_smo, holt_exp, wint_exp]\n",
    "\n",
    "r2_result_all = []\n",
    "mse_result_all = []\n",
    "mae_result_all = []\n",
    "rmse_result_all = []\n",
    "\n",
    "for i in methods:\n",
    "    r2_result, mse_result, mae_result, rmse_result = performance_test(y.values, i)\n",
    "    r2_result_all.append(r2_result)\n",
    "    mse_result_all.append(mse_result)\n",
    "    mae_result_all.append(mae_result)\n",
    "    rmse_result_all.append(rmse_result)\n",
    "    \n",
    "evaluation = {\"R2\": r2_result_all,\n",
    "              \"MSE\": mse_result_all,\n",
    "              \"MAE\": mae_result_all,\n",
    "              \"RMSE\": rmse_result_all,}\n",
    "index = [\"mov_avg\", \"centrl_mov_avg\", \"exp_smo\", \"holt_exp\", \"wint_exp\"]\n",
    "eval_df = pd.DataFrame(evaluation, index=index)\n",
    "eval_df"
   ]
  },
  {
   "cell_type": "markdown",
   "id": "a9500c5d",
   "metadata": {},
   "source": [
    "## Case-17"
   ]
  },
  {
   "cell_type": "code",
   "execution_count": null,
   "id": "3a53b5f1",
   "metadata": {},
   "outputs": [],
   "source": [
    "mov_avg_valinit = 2\n",
    "centr_mov_avg_valinit = 2\n",
    "exp_smooth_valinit = 0.2\n",
    "holt_alpha_valinit = 0.2\n",
    "holt_beta_valinit = 0.95\n",
    "wint_season_valinit = 5\n",
    "wint_alpha_valinit = 0.2\n",
    "wint_beta_valinit = 0.2\n",
    "wint_zeta_valinit = 0.2"
   ]
  },
  {
   "cell_type": "code",
   "execution_count": null,
   "id": "28a77f1e",
   "metadata": {},
   "outputs": [],
   "source": [
    "plot17 = hourly_inflow_filter.loc[\"2017-07-01 0:00\":\"2017-07-05 0:00\"]\n",
    "x = plot17.index\n",
    "y = plot17[\"inflow(cms)\"]\n",
    "mov_avg, centrl_mov_avg, exp_smo, holt_exp, wint_exp = es_plot()"
   ]
  },
  {
   "cell_type": "code",
   "execution_count": null,
   "id": "2f57a88a",
   "metadata": {},
   "outputs": [],
   "source": [
    "methods = [mov_avg, centrl_mov_avg, exp_smo, holt_exp, wint_exp]\n",
    "\n",
    "r2_result_all = []\n",
    "mse_result_all = []\n",
    "mae_result_all = []\n",
    "rmse_result_all = []\n",
    "\n",
    "for i in methods:\n",
    "    r2_result, mse_result, mae_result, rmse_result = performance_test(y.values, i)\n",
    "    r2_result_all.append(r2_result)\n",
    "    mse_result_all.append(mse_result)\n",
    "    mae_result_all.append(mae_result)\n",
    "    rmse_result_all.append(rmse_result)\n",
    "    \n",
    "evaluation = {\"R2\": r2_result_all,\n",
    "              \"MSE\": mse_result_all,\n",
    "              \"MAE\": mae_result_all,\n",
    "              \"RMSE\": rmse_result_all,}\n",
    "index = [\"mov_avg\", \"centrl_mov_avg\", \"exp_smo\", \"holt_exp\", \"wint_exp\"]\n",
    "eval_df = pd.DataFrame(evaluation, index=index)\n",
    "eval_df"
   ]
  },
  {
   "cell_type": "markdown",
   "id": "c08c6fd6",
   "metadata": {},
   "source": [
    "## Case-18"
   ]
  },
  {
   "cell_type": "code",
   "execution_count": null,
   "id": "913b9a84",
   "metadata": {},
   "outputs": [],
   "source": [
    "plot18 = hourly_inflow_filter.loc[\"2018-08-27 0:00\":\"2018-08-31 0:00\"]\n",
    "x = plot18.index\n",
    "y = plot18[\"inflow(cms)\"]\n",
    "mov_avg, centrl_mov_avg, exp_smo, holt_exp, wint_exp = es_plot()"
   ]
  },
  {
   "cell_type": "code",
   "execution_count": null,
   "id": "66d95a6b",
   "metadata": {},
   "outputs": [],
   "source": [
    "methods = [mov_avg, centrl_mov_avg, exp_smo, holt_exp, wint_exp]\n",
    "\n",
    "r2_result_all = []\n",
    "mse_result_all = []\n",
    "mae_result_all = []\n",
    "rmse_result_all = []\n",
    "\n",
    "for i in methods:\n",
    "    r2_result, mse_result, mae_result, rmse_result = performance_test(y.values, i)\n",
    "    r2_result_all.append(r2_result)\n",
    "    mse_result_all.append(mse_result)\n",
    "    mae_result_all.append(mae_result)\n",
    "    rmse_result_all.append(rmse_result)\n",
    "    \n",
    "evaluation = {\"R2\": r2_result_all,\n",
    "              \"MSE\": mse_result_all,\n",
    "              \"MAE\": mae_result_all,\n",
    "              \"RMSE\": rmse_result_all,}\n",
    "index = [\"mov_avg\", \"centrl_mov_avg\", \"exp_smo\", \"holt_exp\", \"wint_exp\"]\n",
    "eval_df = pd.DataFrame(evaluation, index=index)\n",
    "eval_df"
   ]
  },
  {
   "cell_type": "markdown",
   "id": "cafc8191",
   "metadata": {},
   "source": [
    "## Case-19"
   ]
  },
  {
   "cell_type": "code",
   "execution_count": null,
   "id": "18b5da06",
   "metadata": {},
   "outputs": [],
   "source": [
    "mov_avg_valinit = 2\n",
    "centr_mov_avg_valinit = 2\n",
    "exp_smooth_valinit = 0.2\n",
    "holt_alpha_valinit = 0.2\n",
    "holt_beta_valinit = 0.95\n",
    "wint_season_valinit = 5\n",
    "wint_alpha_valinit = 0.2\n",
    "wint_beta_valinit = 0.2\n",
    "wint_zeta_valinit = 0.2"
   ]
  },
  {
   "cell_type": "code",
   "execution_count": null,
   "id": "86dbb0b2",
   "metadata": {},
   "outputs": [],
   "source": [
    "plot19 = hourly_inflow_filter.loc[\"2019-07-24 0:00\":\"2019-07-28 0:00\"]\n",
    "x = plot19.index\n",
    "y = plot19[\"inflow(cms)\"]\n",
    "mov_avg, centrl_mov_avg, exp_smo, holt_exp, wint_exp = es_plot()"
   ]
  },
  {
   "cell_type": "code",
   "execution_count": null,
   "id": "887b0c68",
   "metadata": {},
   "outputs": [],
   "source": [
    "methods = [mov_avg, centrl_mov_avg, exp_smo, holt_exp, wint_exp]\n",
    "\n",
    "r2_result_all = []\n",
    "mse_result_all = []\n",
    "mae_result_all = []\n",
    "rmse_result_all = []\n",
    "\n",
    "for i in methods:\n",
    "    r2_result, mse_result, mae_result, rmse_result = performance_test(y.values, i)\n",
    "    r2_result_all.append(r2_result)\n",
    "    mse_result_all.append(mse_result)\n",
    "    mae_result_all.append(mae_result)\n",
    "    rmse_result_all.append(rmse_result)\n",
    "    \n",
    "evaluation = {\"R2\": r2_result_all,\n",
    "              \"MSE\": mse_result_all,\n",
    "              \"MAE\": mae_result_all,\n",
    "              \"RMSE\": rmse_result_all,}\n",
    "index = [\"mov_avg\", \"centrl_mov_avg\", \"exp_smo\", \"holt_exp\", \"wint_exp\"]\n",
    "eval_df = pd.DataFrame(evaluation, index=index)\n",
    "eval_df"
   ]
  },
  {
   "cell_type": "markdown",
   "id": "289bf037",
   "metadata": {},
   "source": [
    "## Case-20"
   ]
  },
  {
   "cell_type": "code",
   "execution_count": null,
   "id": "c4139500",
   "metadata": {},
   "outputs": [],
   "source": [
    "plot20 = hourly_inflow_filter.loc[\"2020-09-01 0:00\":\"2020-09-05 0:00\"]\n",
    "x = plot20.index\n",
    "y = plot20[\"inflow(cms)\"]\n",
    "mov_avg, centrl_mov_avg, exp_smo, holt_exp, wint_exp = es_plot()"
   ]
  },
  {
   "cell_type": "code",
   "execution_count": null,
   "id": "ce679db9",
   "metadata": {},
   "outputs": [],
   "source": [
    "methods = [mov_avg, centrl_mov_avg, exp_smo, holt_exp, wint_exp]\n",
    "\n",
    "r2_result_all = []\n",
    "mse_result_all = []\n",
    "mae_result_all = []\n",
    "rmse_result_all = []\n",
    "\n",
    "for i in methods:\n",
    "    r2_result, mse_result, mae_result, rmse_result = performance_test(y.values, i)\n",
    "    r2_result_all.append(r2_result)\n",
    "    mse_result_all.append(mse_result)\n",
    "    mae_result_all.append(mae_result)\n",
    "    rmse_result_all.append(rmse_result)\n",
    "    \n",
    "evaluation = {\"R2\": r2_result_all,\n",
    "              \"MSE\": mse_result_all,\n",
    "              \"MAE\": mae_result_all,\n",
    "              \"RMSE\": rmse_result_all,}\n",
    "index = [\"mov_avg\", \"centrl_mov_avg\", \"exp_smo\", \"holt_exp\", \"wint_exp\"]\n",
    "eval_df = pd.DataFrame(evaluation, index=index)\n",
    "eval_df"
   ]
  },
  {
   "cell_type": "code",
   "execution_count": null,
   "id": "fd8d0fd1",
   "metadata": {},
   "outputs": [],
   "source": []
  }
 ],
 "metadata": {
  "kernelspec": {
   "display_name": "Python 3 (ipykernel)",
   "language": "python",
   "name": "python3"
  },
  "language_info": {
   "codemirror_mode": {
    "name": "ipython",
    "version": 3
   },
   "file_extension": ".py",
   "mimetype": "text/x-python",
   "name": "python",
   "nbconvert_exporter": "python",
   "pygments_lexer": "ipython3",
   "version": "3.9.7"
  }
 },
 "nbformat": 4,
 "nbformat_minor": 5
}
